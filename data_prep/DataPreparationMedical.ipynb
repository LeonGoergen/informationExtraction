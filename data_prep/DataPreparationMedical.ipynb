{
  "cells": [
    {
      "cell_type": "markdown",
      "metadata": {
        "id": "view-in-github",
        "colab_type": "text"
      },
      "source": [
        "<a href=\"https://colab.research.google.com/github/LeonGoergen/informationExtraction/blob/main/data_prep/DataPreparationMedical.ipynb\" target=\"_parent\"><img src=\"https://colab.research.google.com/assets/colab-badge.svg\" alt=\"Open In Colab\"/></a>"
      ]
    },
    {
      "cell_type": "markdown",
      "source": [
        "# Dependencies"
      ],
      "metadata": {
        "id": "IeDiSFwFy9-P"
      }
    },
    {
      "cell_type": "code",
      "execution_count": null,
      "metadata": {
        "colab": {
          "base_uri": "https://localhost:8080/"
        },
        "id": "h4ng9f_Wyn6E",
        "outputId": "666457d1-1c03-4fe3-975f-ffd9a131505e"
      },
      "outputs": [
        {
          "output_type": "stream",
          "name": "stdout",
          "text": [
            "Mounted at /content/drive\n"
          ]
        }
      ],
      "source": [
        "from google.colab import drive\n",
        "drive.mount('/content/drive')"
      ]
    },
    {
      "cell_type": "code",
      "execution_count": null,
      "metadata": {
        "id": "_WtDcd8bypv3"
      },
      "outputs": [],
      "source": [
        "import pandas as pd\n",
        "import matplotlib.pyplot as plt\n",
        "from sklearn.model_selection import train_test_split\n",
        "import random\n",
        "from tqdm import tqdm\n",
        "import json\n",
        "import unicodedata\n",
        "import os\n",
        "from collections import Counter\n",
        "import re"
      ]
    },
    {
      "cell_type": "markdown",
      "source": [
        "# Data Preparation"
      ],
      "metadata": {
        "id": "3i9xWid0zDZw"
      }
    },
    {
      "cell_type": "code",
      "source": [
        "df = pd.read_json('/content/drive/MyDrive/Masterarbeit/Medical/GERNERMED_dataset.json')\n",
        "df = df[['de', 'annotations']]\n",
        "print(df.iloc[7]['de'])\n",
        "print(df.iloc[7]['annotations'])"
      ],
      "metadata": {
        "colab": {
          "base_uri": "https://localhost:8080/"
        },
        "id": "_OMlUG893eyS",
        "outputId": "f1eed6a8-d5c9-4915-e80a-4ae718f159be"
      },
      "execution_count": null,
      "outputs": [
        {
          "output_type": "stream",
          "name": "stdout",
          "text": [
            "Er kann auch wiederkehrende Anfälle haben, die mit ativan IV oder IM behandelt werden sollten und nicht notwendigerweise darauf hindeuten, dass der Patient ins Krankenhaus zurückkehren muss, es sei denn, sie dauern länger als 5 Minuten an oder er hat mehrere wiederkehrende Anfälle oder Komplikationen wie Aspiration.\n",
            "[{'id': 'T3', 'type': 'Drug', 'spans': [9981, 9987], 'content': 'ativan', 'de_spans': [51, 57]}, {'id': 'T5', 'type': 'Route', 'spans': [9994, 9996], 'content': 'IM', 'de_spans': [66, 68]}, {'id': 'T4', 'type': 'Route', 'spans': [9988, 9990], 'content': 'IV', 'de_spans': [58, 60]}]\n"
          ]
        }
      ]
    },
    {
      "cell_type": "code",
      "source": [
        "def tokenize_and_label(text, annotations):\n",
        "    tokens = re.findall(r'\\w+|[^\\w\\s]', text, re.UNICODE)\n",
        "\n",
        "    labels = ['O'] * len(tokens)\n",
        "\n",
        "    current_idx = 0\n",
        "    token_spans = []\n",
        "\n",
        "    for token in tokens:\n",
        "        start_idx = text.find(token, current_idx)\n",
        "        end_idx = start_idx + len(token)\n",
        "        token_spans.append((start_idx, end_idx))\n",
        "        current_idx = end_idx\n",
        "\n",
        "    for annotation in annotations:\n",
        "        entity_start, entity_end = annotation['de_spans']\n",
        "        entity_type = annotation['type']\n",
        "\n",
        "        for i, (token_start, token_end) in enumerate(token_spans):\n",
        "            if token_start >= entity_start and token_end <= entity_end:\n",
        "                if token_start == entity_start:\n",
        "                    labels[i] = f'B-{entity_type}'\n",
        "                else:\n",
        "                    labels[i] = f'I-{entity_type}'\n",
        "\n",
        "    return tokens, labels\n",
        "\n",
        "def tokenize_and_label_row(row):\n",
        "    text = row['de']\n",
        "    annotations = row['annotations']\n",
        "    tokens, labels = tokenize_and_label(text, annotations)\n",
        "    return pd.Series([tokens, labels])\n",
        "\n",
        "df[['tokens', 'ner_tags']] = df.apply(tokenize_and_label_row, axis=1)\n",
        "df = df = df[['tokens', 'ner_tags']]"
      ],
      "metadata": {
        "id": "40-LW5jP6lU5"
      },
      "execution_count": null,
      "outputs": []
    },
    {
      "cell_type": "code",
      "source": [
        "print(df.iloc[7]['tokens'])\n",
        "print(df.iloc[7]['ner_tags'])"
      ],
      "metadata": {
        "colab": {
          "base_uri": "https://localhost:8080/"
        },
        "id": "m2v7axhB9h9i",
        "outputId": "5e0da344-7444-4ef3-94c9-410d524e6892"
      },
      "execution_count": null,
      "outputs": [
        {
          "output_type": "stream",
          "name": "stdout",
          "text": [
            "['Er', 'kann', 'auch', 'wiederkehrende', 'Anfälle', 'haben', ',', 'die', 'mit', 'ativan', 'IV', 'oder', 'IM', 'behandelt', 'werden', 'sollten', 'und', 'nicht', 'notwendigerweise', 'darauf', 'hindeuten', ',', 'dass', 'der', 'Patient', 'ins', 'Krankenhaus', 'zurückkehren', 'muss', ',', 'es', 'sei', 'denn', ',', 'sie', 'dauern', 'länger', 'als', '5', 'Minuten', 'an', 'oder', 'er', 'hat', 'mehrere', 'wiederkehrende', 'Anfälle', 'oder', 'Komplikationen', 'wie', 'Aspiration', '.']\n",
            "['O', 'O', 'O', 'O', 'O', 'O', 'O', 'O', 'O', 'B-Drug', 'B-Route', 'O', 'B-Route', 'O', 'O', 'O', 'O', 'O', 'O', 'O', 'O', 'O', 'O', 'O', 'O', 'O', 'O', 'O', 'O', 'O', 'O', 'O', 'O', 'O', 'O', 'O', 'O', 'O', 'O', 'O', 'O', 'O', 'O', 'O', 'O', 'O', 'O', 'O', 'O', 'O', 'O', 'O']\n"
          ]
        }
      ]
    },
    {
      "cell_type": "code",
      "source": [
        "train, test = train_test_split(df, test_size=0.15, random_state=1)\n",
        "len(train), len(test)"
      ],
      "metadata": {
        "colab": {
          "base_uri": "https://localhost:8080/"
        },
        "id": "Psx6AYqM_i4u",
        "outputId": "9f286505-f744-440b-8ce7-477fd504922e"
      },
      "execution_count": null,
      "outputs": [
        {
          "output_type": "execute_result",
          "data": {
            "text/plain": [
              "(7309, 1290)"
            ]
          },
          "metadata": {},
          "execution_count": 68
        }
      ]
    },
    {
      "cell_type": "code",
      "source": [
        "def count_tags(tags):\n",
        "    tag_counter = Counter()\n",
        "    for tag in tags:\n",
        "        if tag.startswith('B-') or tag.startswith('I-'):\n",
        "            tag = tag[2:]  # Remove 'B-' or 'I-'\n",
        "        tag_counter[tag] += 1\n",
        "    return tag_counter\n",
        "\n",
        "total_counts = Counter()\n",
        "for tags in train['ner_tags']:\n",
        "    total_counts.update(count_tags(tags))\n",
        "sorted(total_counts.items(), key=lambda pair: pair[0])"
      ],
      "metadata": {
        "colab": {
          "base_uri": "https://localhost:8080/"
        },
        "id": "DWaF8t4m7Dfk",
        "outputId": "6bfb9525-7ebb-4c53-a00a-81c756cf46df"
      },
      "execution_count": null,
      "outputs": [
        {
          "output_type": "execute_result",
          "data": {
            "text/plain": [
              "[('Dosage', 10293),\n",
              " ('Drug', 13678),\n",
              " ('Duration', 1256),\n",
              " ('Form', 8881),\n",
              " ('Frequency', 14614),\n",
              " ('O', 93085),\n",
              " ('Route', 4022),\n",
              " ('Strength', 9824)]"
            ]
          },
          "metadata": {},
          "execution_count": 71
        }
      ]
    },
    {
      "cell_type": "code",
      "source": [
        "train_json = train.to_json(orient='records')\n",
        "test_json = test.to_json(orient='records')\n",
        "\n",
        "with open('/content/drive/MyDrive/Masterarbeit/Medical/train.json', 'w') as f:\n",
        "  f.write(train_json)\n",
        "\n",
        "with open('/content/drive/MyDrive/Masterarbeit/Medical/test.json', 'w') as f:\n",
        "  f.write(test_json)"
      ],
      "metadata": {
        "id": "92Zad9ZN_02E"
      },
      "execution_count": null,
      "outputs": []
    }
  ],
  "metadata": {
    "colab": {
      "provenance": [],
      "authorship_tag": "ABX9TyOe+etUjoGriZeewA2Ikt9L",
      "include_colab_link": true
    },
    "kernelspec": {
      "display_name": "Python 3",
      "name": "python3"
    },
    "language_info": {
      "name": "python"
    }
  },
  "nbformat": 4,
  "nbformat_minor": 0
}